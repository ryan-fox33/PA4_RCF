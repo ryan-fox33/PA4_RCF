{
 "cells": [
  {
   "cell_type": "code",
   "execution_count": 15,
   "id": "cd1ca684",
   "metadata": {},
   "outputs": [
    {
     "name": "stdout",
     "output_type": "stream",
     "text": [
      "Enter a lowercase word in English. Enter 0 to end. : key\n",
      "The Spanish word for cat is llave\n",
      "Enter a lowercase word in English. Enter 0 to end. : steak\n",
      "The Spanish word for cat is filete\n",
      "Enter a lowercase word in English. Enter 0 to end. : dog \n",
      "The Spanish word for cat is None\n",
      "Enter a lowercase word in English. Enter 0 to end. : cat\n",
      "The Spanish word for cat is gato\n",
      "Enter a lowercase word in English. Enter 0 to end. : orange\n",
      "The Spanish word for cat is None\n",
      "Enter a lowercase word in English. Enter 0 to end. : 0\n"
     ]
    }
   ],
   "source": [
    "translator={\n",
    "    'boy':'chico',\n",
    "    'girl':'chica',\n",
    "    'man':'hombre',\n",
    "    'woman':'mujer',\n",
    "    'adult':'adulta',\n",
    "    'work':'trabajar',\n",
    "    'girlfriend':'novia',\n",
    "    'boyfriend':'novio',\n",
    "    'friend':'amigo',\n",
    "    'cat':'gato',\n",
    "    'dog':'perro',\n",
    "    'fish':'pez',\n",
    "    'chicken':'pollo',\n",
    "    'red':'rojo',\n",
    "    'cake':'pastel',\n",
    "    'steak':'filete',\n",
    "    'pork':'cerdo',\n",
    "    'wallet':'cartero',\n",
    "    'sky':'cielo',\n",
    "    'key':'llave', \n",
    "    \n",
    "    \n",
    "}\n",
    "prompt=(\"Enter a lowercase word in English. Enter 0 to end. : \")\n",
    "active=True \n",
    "while active:\n",
    "    word=input(prompt)\n",
    "    if word=='0':\n",
    "        break\n",
    "    else:\n",
    "        print(\"The Spanish word for\", n, \"is\", translator.get(word))"
   ]
  },
  {
   "cell_type": "code",
   "execution_count": 23,
   "id": "16a824b9",
   "metadata": {},
   "outputs": [
    {
     "name": "stdout",
     "output_type": "stream",
     "text": [
      "{'Sept 1': 16.666666666666668, 'Sept 2': 19.444444444444443, 'Sept 3': 12.222222222222221, 'Sept 4': 13.333333333333332, 'Sept 5': 15.0, 'Sept 6': 15.555555555555555, 'Sept 7': 14.444444444444445, 'Sept 8': 16.11111111111111, 'Sept 9': 16.666666666666668, 'Sept 10': 19.444444444444443, 'Sept 11': 17.77777777777778, 'Sept 12': 16.11111111111111, 'Sept 13': 13.88888888888889, 'Sept 14': 12.222222222222221, 'Sept 15': 11.11111111111111, 'Sept 16': 10.555555555555555, 'Sept 17': 10.0, 'Sept 18': 12.777777777777777, 'Sept 19': 14.444444444444445, 'Sept 20': 13.333333333333332, 'Sept 21': 10.0, 'Sept 22': 8.88888888888889, 'Sept 23': 11.11111111111111, 'Sept 24': 11.666666666666666, 'Sept 25': 13.333333333333332, 'Sept 26': 13.333333333333332, 'Sept 27': 13.88888888888889, 'Sept 28': 12.222222222222221, 'Sept 29': 10.0, 'Sept 30': 10.555555555555555}\n"
     ]
    }
   ],
   "source": [
    "weather={\n",
    "    'Sept 1':62,\n",
    "    'Sept 2':67,\n",
    "    'Sept 3':54,\n",
    "    'Sept 4':56,\n",
    "    'Sept 5':59,\n",
    "    'Sept 6':60,\n",
    "    'Sept 7':58,\n",
    "    'Sept 8':61,\n",
    "    'Sept 9':62,\n",
    "    'Sept 10':67,\n",
    "    'Sept 11':64,\n",
    "    'Sept 12':61,\n",
    "    'Sept 13':57,\n",
    "    'Sept 14':54,\n",
    "    'Sept 15':52,\n",
    "    'Sept 16':51,\n",
    "    'Sept 17':50,\n",
    "    'Sept 18':55,\n",
    "    'Sept 19':58,\n",
    "    'Sept 20':56,\n",
    "    'Sept 21':50,\n",
    "    'Sept 22':48,\n",
    "    'Sept 23':52,\n",
    "    'Sept 24':53,\n",
    "    'Sept 25':56,\n",
    "    'Sept 26':56,\n",
    "    'Sept 27':57,\n",
    "    'Sept 28':54,\n",
    "    'Sept 29':50,\n",
    "    'Sept 30':51\n",
    "\n",
    "}\n",
    "for day, degree in weather.items():\n",
    "    weather[day]= (degree-32)/1.8\n",
    "print(weather)\n",
    "    "
   ]
  },
  {
   "cell_type": "code",
   "execution_count": 25,
   "id": "e766b7d4",
   "metadata": {},
   "outputs": [
    {
     "name": "stdout",
     "output_type": "stream",
     "text": [
      "{1: 1, 2: 4, 3: 9, 4: 16, 5: 25, 6: 36, 7: 49, 8: 64, 9: 81, 10: 100, 11: 121, 12: 144, 13: 169, 14: 196, 15: 225}\n"
     ]
    }
   ],
   "source": [
    "keys=[1,2,3,4,5,6,7,8,9,10,11,12,13,14,15]\n",
    "values=[]\n",
    "for i in range (len(keys)):\n",
    "    values.append(keys[i]**2)\n",
    "output=dict(zip(keys,values))\n",
    "print(output)\n",
    "\n",
    "    "
   ]
  },
  {
   "cell_type": "markdown",
   "id": "e0930bfb",
   "metadata": {},
   "source": [
    "### PA4, Ryan Fox, version 1, fall 2022"
   ]
  },
  {
   "cell_type": "code",
   "execution_count": null,
   "id": "2eb0286b",
   "metadata": {},
   "outputs": [],
   "source": []
  }
 ],
 "metadata": {
  "kernelspec": {
   "display_name": "Python 3 (ipykernel)",
   "language": "python",
   "name": "python3"
  },
  "language_info": {
   "codemirror_mode": {
    "name": "ipython",
    "version": 3
   },
   "file_extension": ".py",
   "mimetype": "text/x-python",
   "name": "python",
   "nbconvert_exporter": "python",
   "pygments_lexer": "ipython3",
   "version": "3.9.12"
  }
 },
 "nbformat": 4,
 "nbformat_minor": 5
}
